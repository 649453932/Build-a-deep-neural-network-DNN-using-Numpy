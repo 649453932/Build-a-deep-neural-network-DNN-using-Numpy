{
 "cells": [
  {
   "cell_type": "code",
   "execution_count": 1,
   "metadata": {},
   "outputs": [
    {
     "name": "stderr",
     "output_type": "stream",
     "text": [
      "D:\\Anaconda\\lib\\site-packages\\h5py\\__init__.py:34: FutureWarning: Conversion of the second argument of issubdtype from `float` to `np.floating` is deprecated. In future, it will be treated as `np.float64 == np.dtype(float).type`.\n",
      "  from ._conv import register_converters as _register_converters\n"
     ]
    }
   ],
   "source": [
    "# 0 各种import\n",
    "import numpy as np\n",
    "import h5py\n",
    "import matplotlib.pyplot as plt\n",
    "%matplotlib inline\n",
    "plt.rcParams['figure.figsize'] = (5.0, 4.0) # 设定图片的默认尺寸\n",
    "plt.rcParams['image.interpolation'] = 'nearest'\n",
    "plt.rcParams['image.cmap'] = 'gray'\n",
    "%load_ext autoreload\n",
    "%autoreload 2\n",
    "np.random.seed(1)"
   ]
  },
  {
   "cell_type": "code",
   "execution_count": 2,
   "metadata": {
    "collapsed": true
   },
   "outputs": [],
   "source": [
    "# 定义要用到的方法\n",
    "def sigmoid(Z):\n",
    "    \"\"\"\n",
    "    使用numpy实现sigmoid函数\n",
    "    Arguments:\n",
    "    Z -- 任何尺寸的numpy array\n",
    "    Returns:\n",
    "    A -- 输出sigmoid(z), 形状和Z一样\n",
    "    cache -- 就是Z，在反向传播中会用到\n",
    "    \"\"\"\n",
    "    A = 1/(1+np.exp(-Z))\n",
    "    cache = Z\n",
    "    return A, cache\n",
    "\n",
    "\n",
    "def relu(Z):\n",
    "    \"\"\"\n",
    "    使用numpy实现relu函数\n",
    "    Arguments:\n",
    "    Z -- 任何尺寸的numpy array\n",
    "    Returns:\n",
    "    A -- 输出relu(z), 形状和Z一样\n",
    "    cache -- 就是Z，在反向传播中会用到\n",
    "    \"\"\"\n",
    "    A = np.maximum(0,Z)\n",
    "    assert(A.shape == Z.shape)\n",
    "    cache = Z \n",
    "    return A, cache\n",
    "\n",
    "\n",
    "def relu_backward(dA, cache):\n",
    "    \"\"\"\n",
    "    实现了relu单元的反向传播\n",
    "    Arguments:\n",
    "    dA -- 激活函数的梯度\n",
    "    cache -- 之前定义的relu函数中的返回值，前向传播之前的Z\n",
    "    Returns:\n",
    "    dZ -- 损失函数对Z的梯度\n",
    "    \"\"\"\n",
    "    Z = cache\n",
    "    dZ = np.array(dA, copy=True) # relu导数为1(输入大于0)，所以直接直接复制一份dA即可\n",
    "    dZ[Z <= 0] = 0 # 当输入小于0时，relu导数为0，所以dZ中小于0的数变为0\n",
    "    assert (dZ.shape == Z.shape)\n",
    "    return dZ\n",
    "\n",
    "\n",
    "def sigmoid_backward(dA, cache):\n",
    "    \"\"\"\n",
    "     实现了sigmoid单元的反向传播\n",
    "    Arguments:\n",
    "    dA -- 激活函数的梯度\n",
    "    cache -- 之前定义的sigmoid函数中的返回值，前向传播之前的Z\n",
    "    Returns:\n",
    "    dZ -- 损失函数对Z的梯度\n",
    "    \"\"\"\n",
    "    Z = cache\n",
    "    s = 1/(1+np.exp(-Z))\n",
    "    dZ = dA * s * (1-s) # dA乘sigmoid导数\n",
    "    assert (dZ.shape == Z.shape)\n",
    "    return dZ\n",
    "\n",
    "\n",
    "def load_data():\n",
    "    \"\"\"\n",
    "    读取数据\n",
    "    \"\"\"\n",
    "    train_dataset = h5py.File('datasets/train_catvnoncat.h5', \"r\")\n",
    "    train_set_x_orig = np.array(train_dataset[\"train_set_x\"]) # 训练样本 shape:(209, 64, 64, 3)\n",
    "    train_set_y_orig = np.array(train_dataset[\"train_set_y\"]) # 训练样本标签 shape:(1, 209)\n",
    "    \n",
    "    test_dataset = h5py.File('datasets/test_catvnoncat.h5', \"r\")\n",
    "    test_set_x_orig = np.array(test_dataset[\"test_set_x\"]) # 测试样本 shape:(50, 64, 64, 3)\n",
    "    test_set_y_orig = np.array(test_dataset[\"test_set_y\"]) # 测试样本标签 shape:(1, 50)\n",
    "    \n",
    "    classes = np.array(test_dataset[\"list_classes\"][:]) # 标签类别(一共两类：是猫、不是猫)\n",
    "    \n",
    "    train_set_y_orig = train_set_y_orig.reshape((1, -1)) # 确保标签是一行数据 下同\n",
    "    test_set_y_orig = test_set_y_orig.reshape((1, -1))\n",
    "    return train_set_x_orig, train_set_y_orig, test_set_x_orig, test_set_y_orig, classes"
   ]
  },
  {
   "cell_type": "code",
   "execution_count": 3,
   "metadata": {},
   "outputs": [
    {
     "name": "stdout",
     "output_type": "stream",
     "text": [
      "训练集样本数量: 209\n",
      "测试集样本数量: 50\n",
      "每个图片的尺寸(最后的3是RGB三色通道): (64, 64, 3)\n",
      "train_x_orig shape: (209, 64, 64, 3)\n",
      "train_y shape: (1, 209)\n",
      "test_x_orig shape: (50, 64, 64, 3)\n",
      "test_y shape: (1, 50)\n"
     ]
    }
   ],
   "source": [
    "# 把数据弄下来\n",
    "train_x_orig, train_y, test_x_orig, test_y, classes = load_data()\n",
    "\n",
    "# 瞅一瞅你的数据\n",
    "m_train = train_x_orig.shape[0]\n",
    "num_px = train_x_orig.shape[1]\n",
    "m_test = test_x_orig.shape[0]\n",
    "print (\"训练集样本数量: \" + str(m_train))\n",
    "print (\"测试集样本数量: \" + str(m_test))\n",
    "print (\"每个图片的尺寸(最后的3是RGB三色通道): (\" + str(num_px) + \", \" + str(num_px) + \", 3)\")\n",
    "print (\"train_x_orig shape: \" + str(train_x_orig.shape))\n",
    "print (\"train_y shape: \" + str(train_y.shape))\n",
    "print (\"test_x_orig shape: \" + str(test_x_orig.shape))\n",
    "print (\"test_y shape: \" + str(test_y.shape))"
   ]
  },
  {
   "cell_type": "code",
   "execution_count": 4,
   "metadata": {},
   "outputs": [
    {
     "name": "stdout",
     "output_type": "stream",
     "text": [
      "train_x shape: (12288, 209)\n",
      "test_x shape: (12288, 50)\n"
     ]
    }
   ],
   "source": [
    "# 改变训练集和测试集的shape\n",
    "train_x_flatten = train_x_orig.reshape(train_x_orig.shape[0], -1).T\n",
    "test_x_flatten = test_x_orig.reshape(test_x_orig.shape[0], -1).T\n",
    "\n",
    "# 标准化数据，使其值为0到1之间\n",
    "train_x = train_x_flatten/255.\n",
    "test_x = test_x_flatten/255.\n",
    "print (\"train_x shape: \" + str(train_x.shape))\n",
    "print (\"test_x shape: \" + str(test_x.shape))"
   ]
  },
  {
   "cell_type": "code",
   "execution_count": 5,
   "metadata": {
    "collapsed": true
   },
   "outputs": [],
   "source": [
    "# 给定神经网络的层数和每层的节点数\n",
    "layers_dims = [12288, 20, 7, 5, 1] #  5-layer model"
   ]
  },
  {
   "cell_type": "code",
   "execution_count": 6,
   "metadata": {
    "collapsed": true
   },
   "outputs": [],
   "source": [
    "# 1 初始化权重\n",
    "def initialize_parameters_deep(layer_dims):\n",
    "    \"\"\"\n",
    "    Arguments:\n",
    "    layer_dims -- 数组或集合，表示每一层的节点数量。\n",
    "    Returns:\n",
    "    parameters --  字典，包含\"W1\", \"b1\", ..., \"WL\", \"bL\":\n",
    "                    Wl -- 权重矩阵，其shape为 (layer_dims[l], layer_dims[l-1])\n",
    "                    bl -- 变差向量，其shape为 (layer_dims[l], 1)                    \n",
    "    \"\"\"\n",
    "    np.random.seed(3)\n",
    "    parameters = {}\n",
    "    L = len(layer_dims) # 网络层数\n",
    "    for l in range(1, L):\n",
    "        parameters['W' + str(l)] = np.random.randn(layer_dims[l] ,layer_dims[l-1]) / np.sqrt(layer_dims[l-1])#  *0.01 \n",
    "        parameters['b' + str(l)] = np.zeros((layer_dims[l], 1))\n",
    "        assert(parameters['W' + str(l)].shape == (layer_dims[l], layer_dims[l-1]))\n",
    "        assert(parameters['b' + str(l)].shape == (layer_dims[l], 1))\n",
    "    return parameters"
   ]
  },
  {
   "cell_type": "code",
   "execution_count": 7,
   "metadata": {
    "collapsed": true
   },
   "outputs": [],
   "source": [
    "# 2.1 前向传播的线性部分\n",
    "def linear_forward(A, W, b):\n",
    "    \"\"\"\n",
    "    实现一层的前向传播的线性部分。\n",
    "    Arguments:\n",
    "    A -- 前一层的激活值(或者输入的数据)，其shape为(前一层的节点数, 样本数)\n",
    "    W -- 权重矩阵，其shape为(当前层的节点数，前一层的节点数)\n",
    "    b -- 偏差向量，其shape为(当前层的节点数，样本数)\n",
    "    Returns:\n",
    "    Z -- 激活函数的输入值\n",
    "    cache -- 字典，包含\"A\", \"W\", \"b\"; 存储这些值以供后向传播使用。\n",
    "    \"\"\"\n",
    "    Z = np.dot(W, A) + b\n",
    "    assert(Z.shape == (W.shape[0], A.shape[1]))\n",
    "    cache = (A, W, b)\n",
    "    return Z, cache"
   ]
  },
  {
   "cell_type": "code",
   "execution_count": 8,
   "metadata": {
    "collapsed": true
   },
   "outputs": [],
   "source": [
    "# 2.2 前向传播的线性激活部分\n",
    "def linear_activation_forward(A_prev, W, b, activation):\n",
    "    \"\"\"\n",
    "    实现前向传播的线性-激活部分\n",
    "    Arguments:\n",
    "    A_prev -- 前一层的激活值(或输入数据)，其shape为(前一层的节点数，样本数)\n",
    "    W -- 权重矩阵，其shape为(当前层的节点数，前一层的节点数)\n",
    "    b -- 偏差向量，其shape为(当前层的节点数，样本数)\n",
    "    activation -- 在这一层要用的激活函数，是字符串格式：\"sigmoid\" 或者 \"relu\" 等\n",
    "    Returns:\n",
    "    A -- 激活函数的输出值\n",
    "    cache -- 字典，包含\"linear_cache\" 和 \"activation_cache\"; 存储这些值以供后向传播使用。\n",
    "            \"linear_cache\"是linear_forward方法的返回值，包含\"A\", \"W\", \"b\"\n",
    "            \"activation_cache\"是本方法的返回值，其值为激活函数(\"sigmoid\" 或者 \"relu\" 等)\n",
    "    \"\"\"\n",
    "    if activation == \"sigmoid\":\n",
    "        # 输入: \"A_prev, W, b\". 输出: \"A, activation_cache\".\n",
    "        Z, linear_cache = linear_forward(A_prev, W, b)\n",
    "        A, activation_cache = sigmoid(Z)\n",
    "    elif activation == \"relu\":\n",
    "        # 输入: \"A_prev, W, b\". 输出: \"A, activation_cache\".\n",
    "        Z, linear_cache = linear_forward(A_prev, W, b)\n",
    "        A, activation_cache = relu(Z)\n",
    "    assert (A.shape == (W.shape[0], A_prev.shape[1]))\n",
    "    cache = (linear_cache, activation_cache)\n",
    "    return A, cache"
   ]
  },
  {
   "cell_type": "code",
   "execution_count": 9,
   "metadata": {
    "collapsed": true
   },
   "outputs": [],
   "source": [
    "# 2.3 前向传播\n",
    "def L_model_forward(X, parameters):\n",
    "    \"\"\"\n",
    "    实现前向传播\n",
    "    Arguments:\n",
    "    X -- 数据，其shape为(输入数据size，样本数)\n",
    "    parameters -- initialize_parameters_deep()方法输出的值，\n",
    "                    字典，包含\"W1\", \"b1\", ..., \"WL\", \"bL\":\n",
    "    Returns:\n",
    "    AL -- 最后的激活函数输出值\n",
    "    caches -- 包含: 每一个linear_relu_forward()的cache (有L-1个, 索引从 0 到 L-2)\n",
    "                   linear_sigmoid_forward()的cache (只有1个, 索引为 L-1)\n",
    "    \"\"\"\n",
    "    caches = []\n",
    "    A = X\n",
    "    L = len(parameters) // 2  # 神经网络的层数\n",
    "    # 实现(L-1)次线性-rulu，并将cache添加到caches中\n",
    "    for l in range(1, L):\n",
    "        A_prev = A \n",
    "        A, cache = linear_activation_forward(A_prev, parameters[\"W\"+str(l)], parameters[\"b\"+str(l)], activation = \"relu\")\n",
    "        caches.append(cache)\n",
    "    # 实现最后的这一次 线性-sigmoid，并将cache添加到caches中 （这里的sigmoid作用是将结果转换到0~1之间，输出作为概率）\n",
    "    AL, cache = linear_activation_forward(A, parameters[\"W\"+str(L)], parameters[\"b\"+str(L)], activation = \"sigmoid\")\n",
    "    caches.append(cache)\n",
    "    assert(AL.shape == (1,X.shape[1]))\n",
    "    return AL, caches"
   ]
  },
  {
   "cell_type": "code",
   "execution_count": 10,
   "metadata": {
    "collapsed": true
   },
   "outputs": [],
   "source": [
    "# 3 代价函数的计算\n",
    "def compute_cost(AL, Y):\n",
    "    \"\"\"\n",
    "    计算上面的代价函数\n",
    "    Arguments:\n",
    "    AL -- 是一个向量，每个值代表该样本的几率，shape为(1，样本数)\n",
    "    Y -- 真实值向量，shape为(1，样本数)\n",
    "    Returns:\n",
    "    cost -- 交叉熵\n",
    "    \"\"\"\n",
    "    m = Y.shape[1]\n",
    "    #  用AL和y计算cost\n",
    "    cost = -1/m * np.sum(Y*np.log(AL) + (1-Y)*np.log(1-AL))\n",
    "    cost = np.squeeze(cost) # 确保cost的shape是你想要的 (会把比如 [[17]] 变成 17).\n",
    "    assert(cost.shape == ())\n",
    "    return cost"
   ]
  },
  {
   "cell_type": "code",
   "execution_count": 11,
   "metadata": {
    "collapsed": true
   },
   "outputs": [],
   "source": [
    "# 4.1 后向传播的线性部分\n",
    "def linear_backward(dZ, cache):\n",
    "    \"\"\"\n",
    "    实现一层的后向传播的线性部分\n",
    "    Arguments:\n",
    "    dZ --当前层的线性导数(导数全是cost的导数)\n",
    "    cache -- 元组(A_prev, W, b)，由前向传播过程的当前层得来\n",
    "    Returns:\n",
    "    dA_prev -- 前一层的激活函数的导数，其shape和A_prev一样\n",
    "    dW -- 当前层 W 的导数，其shape和 W 一样\n",
    "    db -- 当前层 b 的导数，其shape和 b 一样\n",
    "    \"\"\"\n",
    "    A_prev, W, b = cache\n",
    "    m = A_prev.shape[1]\n",
    "    dW = 1/m * np.dot(dZ, A_prev.T)\n",
    "    db = 1/m * np.sum(dZ, axis = 1, keepdims = True)\n",
    "    dA_prev = np.dot(W.T, dZ)\n",
    "    assert (dA_prev.shape == A_prev.shape)\n",
    "    assert (dW.shape == W.shape)\n",
    "    assert (db.shape == b.shape)\n",
    "    return dA_prev, dW, db"
   ]
  },
  {
   "cell_type": "code",
   "execution_count": 12,
   "metadata": {
    "collapsed": true
   },
   "outputs": [],
   "source": [
    "# 4.2 后向传播的线性激活部分  \n",
    "def linear_activation_backward(dA, cache, activation):\n",
    "    \"\"\"\n",
    "    实现一层的后向传播的线性和激活函数部分\n",
    "    Arguments:\n",
    "    dA -- 当前层激活函数的导数\n",
    "    cache -- 元组：(linear_cache, activation_cache)，前向传播时存的\n",
    "    activation -- 这层要用的激活函数，string值: \"sigmoid\" 或者 \"relu\"\n",
    "    Returns:\n",
    "    dA_prev -- 前一层的激活函数的导数，其shape和A_prev一样\n",
    "    dW -- 当前层 W 的导数，其shape和 W 一样\n",
    "    db -- 当前层 b 的导数，其shape和 b 一样\n",
    "    \"\"\"\n",
    "    linear_cache, activation_cache = cache\n",
    "    if activation == \"relu\":\n",
    "        dZ = relu_backward(dA, activation_cache)\n",
    "        dA_prev, dW, db = linear_backward(dZ, linear_cache)\n",
    "    elif activation == \"sigmoid\":\n",
    "        dZ = sigmoid_backward(dA, activation_cache)\n",
    "        dA_prev, dW, db = linear_backward(dZ, linear_cache)\n",
    "    return dA_prev, dW, db"
   ]
  },
  {
   "cell_type": "code",
   "execution_count": 13,
   "metadata": {
    "collapsed": true
   },
   "outputs": [],
   "source": [
    "# 4.3 后向传播\n",
    "def L_model_backward(AL, Y, caches):\n",
    "    \"\"\"\n",
    "    实现后向传播： (L-1) 次 [LINEAR->RELU] 和 1 次 LINEAR->SIGMOID\n",
    "    Arguments:\n",
    "    AL -- 是一个向量，每个值代表该样本的几率，(来自L_model_forward())\n",
    "    Y -- 真实值向量(不是猫 0 , 是猫 1 )\n",
    "    caches -- 包含:\n",
    "                前向传播时存下来的数据：caches[0 ~ L-2]是relu部分 caches[L-1]是sigmoid部分\n",
    "                caches[l]具体包括：[线性cache[A, W, b],激活cache[Z]]\n",
    "    Returns:\n",
    "    grads -- 一个用来存储导数的字典：\n",
    "             grads[\"dA\" + str(l)] = ...\n",
    "             grads[\"dW\" + str(l)] = ...\n",
    "             grads[\"db\" + str(l)] = ...\n",
    "    \"\"\"\n",
    "    grads = {}\n",
    "    L = len(caches) # 神经网络的层数\n",
    "    m = AL.shape[1]\n",
    "    Y = Y.reshape(AL.shape) # 这行之后，Y 的shape就和 AL 一样了\n",
    "    \n",
    "    # 初始化后向传播，该值为损失函数对预测值AL求导的结果(Y是真实值)\n",
    "    dAL =  - (np.divide(Y, AL) - np.divide(1 - Y, 1 - AL)) \n",
    "    \n",
    "    # 第L层 (SIGMOID -> LINEAR) 的导数. \n",
    "    # 输入: \"AL, Y, caches\". \n",
    "    # 输出: \"grads[\"dAL\"], grads[\"dWL\"], grads[\"dbL\"]\n",
    "    current_cache = caches[L-1]\n",
    "    grads[\"dA\" + str(L)], grads[\"dW\" + str(L)], grads[\"db\" + str(L)] =  linear_activation_backward(dAL, current_cache, activation = \"sigmoid\")\n",
    "    for l in reversed(range(L - 1)):\n",
    "        # 第l层: (RELU -> LINEAR) 的导数.\n",
    "        # 输入: \"grads[\"dA\" + str(l + 2)], caches\". \n",
    "        # 输出: \"grads[\"dA\" + str(l + 1)] , grads[\"dW\" + str(l + 1)] , grads[\"db\" + str(l + 1)] \n",
    "        current_cache = caches[l]\n",
    "        dA_prev_temp, dW_temp, db_temp = linear_activation_backward(grads[\"dA\" + str(l + 2)], current_cache, activation = \"relu\")\n",
    "        grads[\"dA\" + str(l + 1)] = dA_prev_temp\n",
    "        grads[\"dW\" + str(l + 1)] = dW_temp\n",
    "        grads[\"db\" + str(l + 1)] = db_temp\n",
    "    return grads"
   ]
  },
  {
   "cell_type": "code",
   "execution_count": 14,
   "metadata": {
    "collapsed": true
   },
   "outputs": [],
   "source": [
    "# 5 更新参数\n",
    "def update_parameters(parameters, grads, learning_rate):\n",
    "    \"\"\"\n",
    "    用梯度下降法更新参数\n",
    "    Arguments:\n",
    "    parameters -- 字典，包含参数\n",
    "    grads -- 字典，包含导数，由L_model_backward方法得到\n",
    "    Returns:\n",
    "    parameters --字典，包含更新了的参数\n",
    "                  parameters[\"W\" + str(l)] = ... \n",
    "                  parameters[\"b\" + str(l)] = ...\n",
    "    \"\"\"\n",
    "    L = len(parameters) // 2 # 神经网络的层数\n",
    "    # 更新每一个参数\n",
    "    for l in range(L):\n",
    "        parameters[\"W\" + str(l+1)] -= learning_rate * grads[\"dW\" + str(l+1)]\n",
    "        parameters[\"b\" + str(l+1)] -= learning_rate * grads[\"db\" + str(l+1)]\n",
    "    return parameters"
   ]
  },
  {
   "cell_type": "code",
   "execution_count": 15,
   "metadata": {
    "collapsed": true
   },
   "outputs": [],
   "source": [
    "# 6 预测\n",
    "def predict(X, y, parameters):\n",
    "    \"\"\"\n",
    "    Arguments:\n",
    "    X -- 输入数据 \n",
    "    parameters -- 训练好的模型的参数\n",
    "    Returns:\n",
    "    p -- 对给定X的预测\n",
    "    \"\"\"\n",
    "    m = X.shape[1] # 样本数量\n",
    "    n = len(parameters) // 2 # 神经网络的层数\n",
    "    p = np.zeros((1,m))\n",
    "    # 前向传播\n",
    "    probas, caches = L_model_forward(X, parameters)\n",
    "    # 把估计值(0~1之间)转化为0或者1\n",
    "    for i in range(0, probas.shape[1]):\n",
    "        if probas[0,i] > 0.5:  # 因为结果shape是(1,样本数)，是个矩阵，所以不能直接probas[i]\n",
    "            p[0,i] = 1\n",
    "        else:\n",
    "            p[0,i] = 0\n",
    "    print(\"Accuracy: \"  + str(np.sum((p == y)/m)))\n",
    "    return p"
   ]
  },
  {
   "cell_type": "code",
   "execution_count": 16,
   "metadata": {
    "collapsed": true
   },
   "outputs": [],
   "source": [
    "# final：神经网络！\n",
    "def L_layer_model(X, Y, layers_dims, learning_rate = 0.0075, num_iterations = 3000, print_cost=False):#lr was 0.009\n",
    "    \"\"\"\n",
    "    实现一个L层的神经网络: [LINEAR->RELU]*(L-1)->LINEAR->SIGMOID.\n",
    "    Arguments:\n",
    "    X -- 数据，shape为 (样本数, 像素 * 像素 * 3)\n",
    "    Y -- 真实值向量 (是猫：1，不是猫：0),shape为 (1, 样本数)\n",
    "    layers_dims -- 包含每一层的节点数\n",
    "    learning_rate -- 梯度下降更新的速率\n",
    "    num_iterations -- 迭代次数\n",
    "    print_cost -- 如果置为True，每迭代100次就输出一次cost\n",
    "    Returns:\n",
    "    parameters -- 由此模型学习到的参数，可以用它们去做预测\n",
    "    \"\"\"\n",
    "    np.random.seed(1)\n",
    "    costs = []                         # keep track of cost\n",
    "    # 1 参数初始化\n",
    "    parameters = initialize_parameters_deep(layers_dims)\n",
    "    # 梯度下降循环\n",
    "    for i in range(0, num_iterations):\n",
    "        # 2 前向传播: [LINEAR -> RELU]*(L-1) -> LINEAR -> SIGMOID.\n",
    "        AL, caches =  L_model_forward(X, parameters)\n",
    "        # 3 计算cost.\n",
    "        cost = compute_cost(AL, Y)\n",
    "        # 4 后向传播\n",
    "        grads = L_model_backward(AL, Y, caches)\n",
    "        # 5 更新参数\n",
    "        parameters = update_parameters(parameters, grads, learning_rate)\n",
    "        # 每迭代100次就输出一次cost\n",
    "        if print_cost and i % 100 == 0:\n",
    "            print (\"Cost after iteration %i: %f\" %(i, cost))\n",
    "        if print_cost and i % 100 == 0:\n",
    "            costs.append(cost)\n",
    "    # 画出cost曲线\n",
    "    plt.plot(np.squeeze(costs))\n",
    "    plt.ylabel('cost')\n",
    "    plt.xlabel('iterations (per tens)')\n",
    "    plt.title(\"Learning rate =\" + str(learning_rate))\n",
    "    plt.show()\n",
    "    return parameters"
   ]
  },
  {
   "cell_type": "code",
   "execution_count": 17,
   "metadata": {},
   "outputs": [
    {
     "name": "stdout",
     "output_type": "stream",
     "text": [
      "Cost after iteration 0: 0.715732\n",
      "Cost after iteration 100: 0.674738\n",
      "Cost after iteration 200: 0.660337\n",
      "Cost after iteration 300: 0.646289\n",
      "Cost after iteration 400: 0.629813\n",
      "Cost after iteration 500: 0.606006\n",
      "Cost after iteration 600: 0.569004\n",
      "Cost after iteration 700: 0.519797\n",
      "Cost after iteration 800: 0.464157\n",
      "Cost after iteration 900: 0.408420\n",
      "Cost after iteration 1000: 0.373155\n",
      "Cost after iteration 1100: 0.305724\n",
      "Cost after iteration 1200: 0.268102\n",
      "Cost after iteration 1300: 0.238725\n",
      "Cost after iteration 1400: 0.206323\n",
      "Cost after iteration 1500: 0.179439\n",
      "Cost after iteration 1600: 0.157987\n",
      "Cost after iteration 1700: 0.142404\n",
      "Cost after iteration 1800: 0.128652\n",
      "Cost after iteration 1900: 0.112443\n",
      "Cost after iteration 2000: 0.085056\n",
      "Cost after iteration 2100: 0.057584\n",
      "Cost after iteration 2200: 0.044568\n",
      "Cost after iteration 2300: 0.038083\n",
      "Cost after iteration 2400: 0.034411\n"
     ]
    },
    {
     "data": {
      "image/png": "[encoded data removed]",
      "text/plain": [
       "<matplotlib.figure.Figure at 0x28e70241908>"
      ]
     },
     "metadata": {},
     "output_type": "display_data"
    }
   ],
   "source": [
    "# 训练参数\n",
    "parameters = L_layer_model(train_x, train_y, layers_dims, num_iterations = 2500, print_cost = True)"
   ]
  },
  {
   "cell_type": "code",
   "execution_count": 18,
   "metadata": {},
   "outputs": [
    {
     "name": "stdout",
     "output_type": "stream",
     "text": [
      "Accuracy: 0.9952153110047844\n"
     ]
    }
   ],
   "source": [
    "# 去预测训练集\n",
    "pred_train = predict(train_x, train_y, parameters)"
   ]
  },
  {
   "cell_type": "code",
   "execution_count": 19,
   "metadata": {},
   "outputs": [
    {
     "name": "stdout",
     "output_type": "stream",
     "text": [
      "Accuracy: 0.78\n"
     ]
    }
   ],
   "source": [
    "# 去预测测试集\n",
    "pred_test = predict(test_x, test_y, parameters)"
   ]
  },
  {
   "cell_type": "code",
   "execution_count": null,
   "metadata": {
    "collapsed": true
   },
   "outputs": [],
   "source": []
  }
 ],
 "metadata": {
  "kernelspec": {
   "display_name": "Python 3",
   "language": "python",
   "name": "python3"
  },
  "language_info": {
   "codemirror_mode": {
    "name": "ipython",
    "version": 3
   },
   "file_extension": ".py",
   "mimetype": "text/x-python",
   "name": "python",
   "nbconvert_exporter": "python",
   "pygments_lexer": "ipython3",
   "version": "3.6.3"
  }
 },
 "nbformat": 4,
 "nbformat_minor": 2
}
